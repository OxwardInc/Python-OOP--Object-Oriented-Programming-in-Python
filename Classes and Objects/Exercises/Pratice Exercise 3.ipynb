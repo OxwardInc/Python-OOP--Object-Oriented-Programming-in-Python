{
 "cells": [
  {
   "cell_type": "code",
   "execution_count": 1,
   "metadata": {},
   "outputs": [],
   "source": [
    "def hcf(x,y):\n",
    "        x=abs(x)\n",
    "        y=abs(y)\n",
    "        smaller = y if x>y else x\n",
    "        s = smaller\n",
    "        while s>0:\n",
    "            if x%s==0 and y%s==0:\n",
    "                break\n",
    "            s-=1\n",
    "        return s"
   ]
  },
  {
   "cell_type": "code",
   "execution_count": 2,
   "metadata": {},
   "outputs": [],
   "source": [
    "class Fraction:\n",
    "    def __init__(self,nr,dr=1):\n",
    "        self.nr = nr\n",
    "        self.dr = dr\n",
    "        if self.dr < 0:    \n",
    "            self.nr *= -1\n",
    "            self.dr *= -1\n",
    " \n",
    "    def show(self):\n",
    "        print(f'{self.nr}/{self.dr}')\n",
    "    \n",
    "    def multiply(self,other):\n",
    "        if isinstance(other,int):\n",
    "            other = Fraction(other)\n",
    "        return Fraction(self.nr * other.nr , self.dr * other.dr)\n",
    " \n",
    "    def add(self,other):\n",
    "            if isinstance(other,int):\n",
    "                other = Fraction(other)\n",
    "            return Fraction(self.nr * other.dr + other.nr * self.dr, self.dr * other.dr)\n",
    "\n",
    "    @staticmethod\n",
    "    def hcf(x,y):\n",
    "        x=abs(x)\n",
    "        y=abs(y)\n",
    "        smaller = y if x>y else x\n",
    "        s = smaller\n",
    "        while s>0:\n",
    "            if x%s==0 and y%s==0:\n",
    "                break\n",
    "            s-=1\n",
    "        return s"
   ]
  },
  {
   "cell_type": "code",
   "execution_count": 3,
   "metadata": {},
   "outputs": [
    {
     "name": "stdout",
     "output_type": "stream",
     "text": [
      "1/6\n",
      "-1/6\n",
      "-1/36\n",
      "0/36\n",
      "31/6\n",
      "5/6\n"
     ]
    }
   ],
   "source": [
    "class Fraction:\n",
    "    def __init__(self,nr,dr=1):\n",
    "        self.nr = nr\n",
    "        self.dr = dr\n",
    "        if self.dr < 0:  \n",
    "            self.nr *= -1\n",
    "            self.dr *= -1\n",
    "        self._reduce()\n",
    " \n",
    "    def show(self):\n",
    "        print(f'{self.nr}/{self.dr}')\n",
    " \n",
    "    def multiply(self,other):\n",
    "        if isinstance(other,int):\n",
    "            other = Fraction(other)\n",
    "        f = Fraction(self.nr * other.nr , self.dr * other.dr)\n",
    "        f._reduce()\n",
    "        return f\n",
    "        \n",
    "    def add(self,other):\n",
    "        if isinstance(other,int):\n",
    "            other = Fraction(other)\n",
    "        f = Fraction(self.nr * other.dr + other.nr * self.dr, self.dr * other.dr)\n",
    "        f._reduce()\n",
    "        return f\n",
    " \n",
    "    def _reduce(self):\n",
    "        h = Fraction.hcf(self.nr, self.dr)\n",
    "        if h == 0:\n",
    "            return\n",
    "        \n",
    "        self.nr //= h\n",
    "        self.dr //= h\n",
    "        \n",
    "    @staticmethod\n",
    "    def hcf(x,y):\n",
    "        x=abs(x)\n",
    "        y=abs(y)\n",
    "        smaller = y if x>y else x\n",
    "        s = smaller\n",
    "        while s>0:\n",
    "            if x%s==0 and y%s==0:\n",
    "                break\n",
    "            s-=1\n",
    "        return s\n",
    " \n",
    "       \n",
    "f1 = Fraction(6,36)\n",
    "f1.show()\n",
    "f2 = Fraction(2,-12)\n",
    "f2.show()\n",
    "f3 = f1.multiply(f2)\n",
    "f3.show()\n",
    "f3 = f1.add(f2)\n",
    "f3.show()\n",
    "f3 = f1.add(5) \n",
    "f3.show()\n",
    "f3 = f1.multiply(5) \n",
    "f3.show()"
   ]
  },
  {
   "cell_type": "code",
   "execution_count": 4,
   "metadata": {},
   "outputs": [
    {
     "name": "stdout",
     "output_type": "stream",
     "text": [
      "Bob 25 2200\n",
      "Ted 22 5000\n",
      "Jack 27 11000\n",
      "18200\n",
      "['Bob', 'Ted', 'Jack']\n"
     ]
    }
   ],
   "source": [
    "class SalesPerson:    \n",
    "    total_revenue = 0\n",
    "    names = []\n",
    "    \n",
    "    def __init__(self,name,age):\n",
    "        self.name = name\n",
    "        self.age = age\n",
    "        self.sales_amount = 0\n",
    "        SalesPerson.names.append(name)\n",
    " \n",
    "    def make_sale(self,money):\n",
    "        self.sales_amount += money\n",
    "        SalesPerson.total_revenue += money\n",
    " \n",
    "    def show(self):\n",
    "        print(self.name, self.age, self.sales_amount)\n",
    " \n",
    "s1 = SalesPerson('Bob', 25)\n",
    "s2 = SalesPerson('Ted', 22)\n",
    "s3 = SalesPerson('Jack', 27)\n",
    "            \n",
    "s1.make_sale(1000)\n",
    "s1.make_sale(1200)\n",
    "s2.make_sale(5000)\n",
    "s3.make_sale(3000)\n",
    "s3.make_sale(8000)\n",
    " \n",
    "s1.show()\n",
    "s2.show()\n",
    "s3.show()\n",
    " \n",
    "print(SalesPerson.total_revenue)\n",
    "print(SalesPerson.names)"
   ]
  },
  {
   "cell_type": "code",
   "execution_count": 5,
   "metadata": {},
   "outputs": [
    {
     "name": "stdout",
     "output_type": "stream",
     "text": [
      "{'outlook.com', 'yahoo.com', 'gmail.com'}\n"
     ]
    }
   ],
   "source": [
    "class Employee:\n",
    "    domains = set()\n",
    "    \n",
    "    def __init__(self,name,email):\n",
    "        self.name = name\n",
    "        self.email = email\n",
    "        domain = email[email.index('@')+1 : ]\n",
    "        Employee.domains.add(domain)\n",
    "   \n",
    "    def display(self):\n",
    "        print(self.name, self.email)\n",
    "             \n",
    "e1 = Employee('John','john@gmail.com')\n",
    "e2 = Employee('Jack','jack@yahoo.com')\n",
    "e3 = Employee('Jill','jill@outlook.com')\n",
    "e4 = Employee('Ted','ted@yahoo.com')\n",
    "e5 = Employee('Tim','tim@gmail.com')\n",
    "e6 = Employee('Mike','mike@yahoo.com')\n",
    " \n",
    "print(Employee.domains)"
   ]
  },
  {
   "cell_type": "code",
   "execution_count": 6,
   "metadata": {},
   "outputs": [
    {
     "name": "stdout",
     "output_type": "stream",
     "text": [
      "Tim tim@xmail.com\n",
      "Ted ted@ymail.com\n",
      "Jill jill@gmail.com\n"
     ]
    }
   ],
   "source": [
    "    allowed_domains = {'yahoo.com', 'gmail.com', 'outlook.com'}\n",
    "    \n",
    "    def __init__(self,name,email):\n",
    "        self.name = name\n",
    "        self.email = email\n",
    "   \n",
    "    def display(self):\n",
    "        print(self.name, self.email)\n",
    " \n",
    "    @property\n",
    "    def email(self):\n",
    "        return self._email\n",
    " \n",
    "    @email.setter\n",
    "    def email(self, new_email):\n",
    "        domain = new_email[new_email.index('@')+1 : ]\n",
    "        if domain in Employee.allowed_domains:\n",
    "            self._email = new_email\n",
    "        else:\n",
    "            raise RuntimeError(f'Domain {domain} is not allowed')\n",
    "            \n",
    "e1 = Employee('John','john@gmail.com')\n",
    "e2 = Employee('Jack','jack@yahoo.com')\n",
    "e3 = Employee('Jill','jill@outlook.com')\n",
    "e4 = Employee('Ted','ted@yahoo.com')\n",
    "e5 = Employee('Tim','tim@xmail.com')\n",
    "e5.display()\n",
    " \n",
    "e4.email = 'ted@ymail.com'\n",
    "e4.display()\n",
    " \n",
    "e3.email = 'jill@gmail.com'\n",
    "e3.display()\n"
   ]
  },
  {
   "cell_type": "code",
   "execution_count": 7,
   "metadata": {},
   "outputs": [
    {
     "name": "stdout",
     "output_type": "stream",
     "text": [
      "1.Push\n",
      "2.Pop\n",
      "3.Peek\n",
      "4.Size\n",
      "5.Display\n",
      "6.Quit\n",
      "\n",
      "1.Push\n",
      "2.Pop\n",
      "3.Peek\n",
      "4.Size\n",
      "5.Display\n",
      "6.Quit\n"
     ]
    },
    {
     "ename": "ValueError",
     "evalue": "invalid literal for int() with base 10: ''",
     "output_type": "error",
     "traceback": [
      "\u001b[1;31m---------------------------------------------------------------------------\u001b[0m",
      "\u001b[1;31mValueError\u001b[0m                                Traceback (most recent call last)",
      "Cell \u001b[1;32mIn[7], line 39\u001b[0m\n\u001b[0;32m     36\u001b[0m \u001b[38;5;28mprint\u001b[39m(\u001b[38;5;124m\"\u001b[39m\u001b[38;5;124m5.Display\u001b[39m\u001b[38;5;124m\"\u001b[39m) \n\u001b[0;32m     37\u001b[0m \u001b[38;5;28mprint\u001b[39m(\u001b[38;5;124m\"\u001b[39m\u001b[38;5;124m6.Quit\u001b[39m\u001b[38;5;124m\"\u001b[39m)\n\u001b[1;32m---> 39\u001b[0m choice \u001b[38;5;241m=\u001b[39m \u001b[38;5;28;43mint\u001b[39;49m\u001b[43m(\u001b[49m\u001b[38;5;28;43minput\u001b[39;49m\u001b[43m(\u001b[49m\u001b[38;5;124;43m\"\u001b[39;49m\u001b[38;5;124;43mEnter your choice : \u001b[39;49m\u001b[38;5;124;43m\"\u001b[39;49m\u001b[43m)\u001b[49m\u001b[43m)\u001b[49m\n\u001b[0;32m     41\u001b[0m \u001b[38;5;28;01mif\u001b[39;00m choice \u001b[38;5;241m==\u001b[39m \u001b[38;5;241m1\u001b[39m:\n\u001b[0;32m     42\u001b[0m     x\u001b[38;5;241m=\u001b[39m\u001b[38;5;28mint\u001b[39m(\u001b[38;5;28minput\u001b[39m(\u001b[38;5;124m\"\u001b[39m\u001b[38;5;124mEnter the element to be pushed : \u001b[39m\u001b[38;5;124m\"\u001b[39m))\n",
      "\u001b[1;31mValueError\u001b[0m: invalid literal for int() with base 10: ''"
     ]
    }
   ],
   "source": [
    "class Stack:\n",
    " \n",
    "    MAX_SIZE = 5\n",
    "        \n",
    "    def __init__(self):\n",
    "        self.items = []\n",
    " \n",
    "    def is_empty(self):\n",
    "        return self.items == []\n",
    " \n",
    "    def size(self):\n",
    "        return len(self.items)\n",
    " \n",
    "    def push(self, item):\n",
    "        if self.size() == Stack.MAX_SIZE:\n",
    "            raise RuntimeError('Stack is full')\n",
    "        self.items.append(item)\n",
    " \n",
    "    def pop(self):\n",
    "        if self.is_empty():\n",
    "            raise RuntimeError(\"Stack is empty\")\n",
    "        return self.items.pop()\n",
    "    \n",
    "    def display(self):\n",
    "        print(self.items)\n",
    " \n",
    " \n",
    "if __name__ == \"__main__\":\n",
    "    st = Stack()\n",
    " \n",
    "    while True:\n",
    "        print(\"1.Push\") \n",
    "        print(\"2.Pop\") \n",
    "        print(\"3.Peek\") \n",
    "        print(\"4.Size\")\n",
    "        print(\"5.Display\") \n",
    "        print(\"6.Quit\")\n",
    "         \n",
    "        choice = int(input(\"Enter your choice : \"))\n",
    " \n",
    "        if choice == 1:\n",
    "            x=int(input(\"Enter the element to be pushed : \"))\n",
    "            st.push(x) \n",
    "        elif choice == 2:\n",
    "            x=st.pop() \n",
    "            print(\"Popped element is : \" , x) \n",
    "        elif choice == 3:\n",
    "            print(\"Element at the top is : \" , st.peek()) \n",
    "        elif choice == 4:\n",
    "            print(\"Size of stack \" , st.size()) \n",
    "        elif choice == 5:\n",
    "            st.display()         \n",
    "        elif choice == 6:\n",
    "          break;\n",
    "        else:\n",
    "          print(\"Wrong choice\") \n",
    "        print() \n"
   ]
  },
  {
   "cell_type": "code",
   "execution_count": 8,
   "metadata": {},
   "outputs": [
    {
     "name": "stdout",
     "output_type": "stream",
     "text": [
      "Mike 200 PQR Bank Delhi\n",
      "Tom 0 ABC bank, XYZ Street, New Delhi\n"
     ]
    },
    {
     "ename": "",
     "evalue": "",
     "output_type": "error",
     "traceback": [
      "\u001b[1;31mThe Kernel crashed while executing code in the current cell or a previous cell. \n",
      "\u001b[1;31mPlease review the code in the cell(s) to identify a possible cause of the failure. \n",
      "\u001b[1;31mClick <a href='https://aka.ms/vscodeJupyterKernelCrash'>here</a> for more info. \n",
      "\u001b[1;31mView Jupyter <a href='command:jupyter.viewOutput'>log</a> for further details."
     ]
    }
   ],
   "source": [
    "class BankAccount:\n",
    " \n",
    "    bank_name = 'ABC bank, XYZ Street, New Delhi'\n",
    " \n",
    "    def __init__(self, name, balance=0, bank=bank_name):\n",
    "        self.name = name\n",
    "        self.balance = balance\n",
    "        self.bank = bank\n",
    " \n",
    "    def display(self):\n",
    "         print(self.name, self.balance, self.bank)\n",
    " \n",
    "    def withdraw(self, amount):\n",
    "        self.balance -= amount\n",
    " \n",
    "    def deposit(self, amount):\n",
    "        self.balance += amount\n",
    "    \n",
    "a1 = BankAccount('Mike', 200, 'PQR Bank Delhi')\n",
    "a2 = BankAccount('Tom')\n",
    " \n",
    "a1.display()\n",
    "a2.display()"
   ]
  },
  {
   "cell_type": "code",
   "execution_count": null,
   "metadata": {},
   "outputs": [],
   "source": []
  }
 ],
 "metadata": {
  "kernelspec": {
   "display_name": "objectvenv",
   "language": "python",
   "name": "python3"
  },
  "language_info": {
   "codemirror_mode": {
    "name": "ipython",
    "version": 3
   },
   "file_extension": ".py",
   "mimetype": "text/x-python",
   "name": "python",
   "nbconvert_exporter": "python",
   "pygments_lexer": "ipython3",
   "version": "3.12.4"
  }
 },
 "nbformat": 4,
 "nbformat_minor": 2
}
