{
 "cells": [
  {
   "cell_type": "code",
   "execution_count": 1,
   "metadata": {},
   "outputs": [],
   "source": [
    "class Bank_account:\n",
    "    def __init__(self, name, balance = 0):\n",
    "        self.name = name\n",
    "        self.balance = balance\n",
    "    \n",
    "    def display(self):\n",
    "        print(f\"Account Name: {self.name}\")\n",
    "        print(f\"Account balance: {self.balance}\")\n",
    "\n",
    "    def withdraw(self, amount):\n",
    "        if amount > self.balance:\n",
    "            return f'Insufficient funds to withdraw {amount}'\n",
    "        else:\n",
    "            self.balance -= amount\n",
    "            return f'{amount} has just been withdrawn from your account and your balance is now {self.balance}'\n",
    "\n",
    "    def deposit(self, amount):\n",
    "        self.balance += amount\n",
    "        return f'{amount} has been added to your account and your balance is now {self.balance}'\n"
   ]
  },
  {
   "cell_type": "code",
   "execution_count": 18,
   "metadata": {},
   "outputs": [],
   "source": [
    "class Book:\n",
    "    def __init__(self, isbn, title, author, publisher, pages, price, copies):\n",
    "        self.isbn = isbn\n",
    "        self.title = title\n",
    "        self.author = author\n",
    "        self.publisher = publisher\n",
    "        self.pages = pages\n",
    "        self.price = price\n",
    "        self.copies = copies\n",
    "\n",
    "    def display(self):\n",
    "        print(f\"ISBN: {self.isbn}\")\n",
    "        print(f'Title: {self.title}')\n",
    "        print(f'Price: {self.price}')\n",
    "        print(f'Number of copies: {self.copies}')\n",
    "        print('.' * 50)\n",
    "\n",
    "\n",
    "    def in_stock(self, copies):\n",
    "        if copies > 0:\n",
    "            return True\n",
    "        else:\n",
    "            return False\n",
    "        \n",
    "    def sell(self, copies):\n",
    "        if self.in_stock(copies):\n",
    "            self.copies -= copies\n",
    "        else:\n",
    "            return 'The book is out of stock'\n",
    "\n",
    "    @property\n",
    "    def price(self):\n",
    "        return self._price\n",
    "        \n",
    "\n",
    "    @price.setter\n",
    "    def price(self, new_price):\n",
    "        if 50 <= new_price <= 1000:\n",
    "            self._price = new_price\n",
    "        else:\n",
    "            raise ValueError ('Price cannot be less than 50 or more than 1000')\n",
    "\n"
   ]
  },
  {
   "cell_type": "code",
   "execution_count": 19,
   "metadata": {},
   "outputs": [
    {
     "name": "stdout",
     "output_type": "stream",
     "text": [
      "ISBN: 957-4-36-547417-1\n",
      "Title: Learn Physics\n",
      "Price: 200\n",
      "Number of copies: 10\n",
      "..................................................\n",
      "ISBN: 652-6-86-748413-3\n",
      "Title: Learn Chemistry\n",
      "Price: 220\n",
      "Number of copies: 20\n",
      "..................................................\n",
      "ISBN: 957-7-39-347216-2\n",
      "Title: Learn Maths\n",
      "Price: 300\n",
      "Number of copies: 5\n",
      "..................................................\n",
      "ISBN: 957-7-39-347216-2\n",
      "Title: Learn Biology\n",
      "Price: 200\n",
      "Number of copies: 6\n",
      "..................................................\n"
     ]
    }
   ],
   "source": [
    "book1 = Book('957-4-36-547417-1', 'Learn Physics','Stephen', 'CBC', 350, 200,10)\n",
    "book2 = Book('652-6-86-748413-3', 'Learn Chemistry','Jack', 'CBC', 400, 220,20)\n",
    "book3 = Book('957-7-39-347216-2', 'Learn Maths','John', 'XYZ', 500, 300,5)\n",
    "book4 = Book('957-7-39-347216-2', 'Learn Biology','Jack', 'XYZ', 400, 200,6)\n",
    "\n",
    "book1.display()\n",
    "book2.display()\n",
    "book3.display()\n",
    "book4.display()"
   ]
  },
  {
   "cell_type": "code",
   "execution_count": 22,
   "metadata": {},
   "outputs": [
    {
     "name": "stdout",
     "output_type": "stream",
     "text": [
      "ISBN: 957-4-36-547417-1\n",
      "Title: Learn Physics\n",
      "Price: 200\n",
      "Number of copies: 10\n",
      "..................................................\n",
      "ISBN: 652-6-86-748413-3\n",
      "Title: Learn Chemistry\n",
      "Price: 220\n",
      "Number of copies: 20\n",
      "..................................................\n",
      "ISBN: 957-7-39-347216-2\n",
      "Title: Learn Maths\n",
      "Price: 300\n",
      "Number of copies: 5\n",
      "..................................................\n",
      "ISBN: 957-7-39-347216-2\n",
      "Title: Learn Biology\n",
      "Price: 200\n",
      "Number of copies: 6\n",
      "..................................................\n",
      "['Learn Chemistry', 'Learn Biology']\n"
     ]
    }
   ],
   "source": [
    "books = [book1, book2, book3, book4]\n",
    "for book in books:\n",
    "    book.display()\n",
    "    \n",
    "jack_books = [book.title for book in books if book.author == 'Jack']\n",
    "print(jack_books)"
   ]
  },
  {
   "cell_type": "code",
   "execution_count": 23,
   "metadata": {},
   "outputs": [],
   "source": [
    "class Fraction:\n",
    "    def __init__(self,nr,dr=1):\n",
    "        self.nr = nr\n",
    "        self.dr = dr\n",
    "        if self.dr < 0:    \n",
    "            self.nr *= -1\n",
    "            self.dr *= -1\n",
    " \n",
    "    def show(self):\n",
    "        print(f'{self.nr}/{self.dr}')\n",
    "    \n",
    "    def multiply(self,other):\n",
    "        if isinstance(other,int):\n",
    "            other = Fraction(other)\n",
    "        return Fraction(self.nr * other.nr , self.dr * other.dr)\n",
    " \n",
    "    def add(self,other):\n",
    "            if isinstance(other,int):\n",
    "                other = Fraction(other)\n",
    "            return Fraction(self.nr * other.dr + other.nr * self.dr, self.dr * other.dr)\n",
    "        \n"
   ]
  },
  {
   "cell_type": "code",
   "execution_count": 24,
   "metadata": {},
   "outputs": [
    {
     "name": "stdout",
     "output_type": "stream",
     "text": [
      "2/3\n",
      "-2/3\n",
      "5/6\n"
     ]
    }
   ],
   "source": [
    "f1 = Fraction(2,3)\n",
    "f1.show()\n",
    "f2 = Fraction(2,-3)\n",
    "f2.show()\n",
    "f3 = Fraction(-5,-6)\n",
    "f3.show()"
   ]
  },
  {
   "cell_type": "code",
   "execution_count": 25,
   "metadata": {},
   "outputs": [],
   "source": [
    "class Product():\n",
    "    def __init__(self, id, marked_price, discount):\n",
    "        self.id = id\n",
    "        self.marked_price = marked_price\n",
    "        self.discount = discount\n",
    "        \n",
    "    @property\n",
    "    def selling_price(self):\n",
    "        return self.marked_price - 0.01 * self.discount * self.marked_price\n",
    "    \n",
    "    def display(self):\n",
    "        print(self.id,  self.marked_price,  self.discount)"
   ]
  },
  {
   "cell_type": "code",
   "execution_count": 26,
   "metadata": {},
   "outputs": [
    {
     "name": "stdout",
     "output_type": "stream",
     "text": [
      "A234 95.0\n",
      "X879 376.0\n",
      "B987 950.4\n",
      "H456 752.0\n"
     ]
    }
   ],
   "source": [
    "p1 = Product('A234', 100, 5)\n",
    "p2 = Product('X879', 400, 6)\n",
    "p3 = Product('B987', 990, 4)\n",
    "p4 = Product('H456', 800, 6)\n",
    " \n",
    "print(p1.id, p1.selling_price)\n",
    "print(p2.id, p2.selling_price)\n",
    "print(p3.id, p3.selling_price)\n",
    "print(p4.id, p4.selling_price)"
   ]
  },
  {
   "cell_type": "code",
   "execution_count": 27,
   "metadata": {},
   "outputs": [],
   "source": [
    "class Product():\n",
    "    def __init__(self, id, marked_price, discount):\n",
    "        self.id = id\n",
    "        self.marked_price = marked_price\n",
    "        self._discount = discount\n",
    "        \n",
    "    @property\n",
    "    def selling_price(self):\n",
    "        return self.marked_price - 0.01 * self.discount * self.marked_price\n",
    " \n",
    "    @property\n",
    "    def discount(self):\n",
    "        return self._discount+2 if self.marked_price > 500 else self._discount\n",
    " \n",
    "    @discount.setter\n",
    "    def discount(self, new_discount):\n",
    "        self._discount = new_discount\n",
    "        \n",
    "    def display(self):\n",
    "        print(self.id, self.marked_price, self.discount)"
   ]
  },
  {
   "cell_type": "code",
   "execution_count": 28,
   "metadata": {},
   "outputs": [
    {
     "name": "stdout",
     "output_type": "stream",
     "text": [
      "A234 95.0\n",
      "X879 376.0\n",
      "B987 930.6\n",
      "H456 736.0\n",
      "H456 704.0\n"
     ]
    }
   ],
   "source": [
    "p1 = Product('A234', 100, 5)\n",
    "p2 = Product('X879', 400, 6)\n",
    "p3 = Product('B987', 990, 4)\n",
    "p4 = Product('H456', 800, 6)\n",
    " \n",
    "print(p1.id, p1.selling_price)\n",
    "print(p2.id, p2.selling_price)\n",
    "print(p3.id, p3.selling_price)\n",
    "print(p4.id, p4.selling_price)\n",
    " \n",
    "p4.discount = 10\n",
    "print(p4.id, p4.selling_price)   "
   ]
  },
  {
   "cell_type": "code",
   "execution_count": 29,
   "metadata": {},
   "outputs": [],
   "source": [
    "class Circle:\n",
    "    def __init__(self, radius):\n",
    "        self.radius = radius\n",
    " \n",
    "    @property\n",
    "    def radius(self):\n",
    "        return self._radius\n",
    " \n",
    "    @radius.setter\n",
    "    def radius(self, new_radius):\n",
    "        if new_radius > 0:\n",
    "            self._radius = new_radius\n",
    "        else:\n",
    "            raise ValueError('Radius should be positive')\n",
    " \n",
    "    @property\n",
    "    def diameter(self):\n",
    "        return self._radius * 2\n",
    " \n",
    "    @property\n",
    "    def circumference(self):\n",
    "        return 2 * 3.14 * self._radius\n",
    " \n",
    "    def area(self):\n",
    "        return 3.14 * self._radius * self._radius\n",
    " \n"
   ]
  },
  {
   "cell_type": "code",
   "execution_count": 30,
   "metadata": {},
   "outputs": [
    {
     "name": "stdout",
     "output_type": "stream",
     "text": [
      "7 14 43.96 153.86\n"
     ]
    }
   ],
   "source": [
    "c1 = Circle(7)\n",
    "print( c1.radius, c1.diameter, c1.circumference, c1.area() )"
   ]
  },
  {
   "cell_type": "code",
   "execution_count": null,
   "metadata": {},
   "outputs": [],
   "source": []
  }
 ],
 "metadata": {
  "kernelspec": {
   "display_name": "objectvenv",
   "language": "python",
   "name": "python3"
  },
  "language_info": {
   "codemirror_mode": {
    "name": "ipython",
    "version": 3
   },
   "file_extension": ".py",
   "mimetype": "text/x-python",
   "name": "python",
   "nbconvert_exporter": "python",
   "pygments_lexer": "ipython3",
   "version": "3.12.4"
  }
 },
 "nbformat": 4,
 "nbformat_minor": 2
}
