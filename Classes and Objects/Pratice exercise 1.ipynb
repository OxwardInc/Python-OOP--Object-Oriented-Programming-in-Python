{
 "cells": [
  {
   "cell_type": "code",
   "execution_count": 7,
   "metadata": {},
   "outputs": [],
   "source": [
    "class Bank_account:\n",
    "    def set_details(self, name, balance = 0):\n",
    "        self.name = name\n",
    "        self.balance = balance\n",
    "    \n",
    "    def display(self):\n",
    "        print(f\"Account Name: {self.name}\")\n",
    "        print(f\"Account balance: {self.balance}\")\n",
    "\n",
    "    def withdraw(self, amount):\n",
    "        if amount > self.balance:\n",
    "            return f'Insufficient funds to withdraw {amount}'\n",
    "        else:\n",
    "            self.balance -= amount\n",
    "            return f'{amount} has just been withdrawn from your account and your balance is now {self.balance}'\n",
    "\n",
    "    def deposit(self, amount):\n",
    "        self.balance += amount\n",
    "        return f'{amount} has been added to your account and your balance is now {self.balance}'\n"
   ]
  },
  {
   "cell_type": "code",
   "execution_count": 11,
   "metadata": {},
   "outputs": [
    {
     "name": "stdout",
     "output_type": "stream",
     "text": [
      "Account Name: Mike\n",
      "Account balance: 200\n",
      "Account Name: Tom\n",
      "Account balance: 0\n",
      "Account Name: Mike\n",
      "Account balance: 100\n",
      "Account Name: Tom\n",
      "Account balance: 500\n"
     ]
    }
   ],
   "source": [
    "a1 = Bank_account()\n",
    "a1.set_details('Mike', 200)\n",
    " \n",
    "a2 = Bank_account()\n",
    "a2.set_details('Tom')\n",
    " \n",
    "a1.display()\n",
    "a2.display()\n",
    " \n",
    "a1.withdraw(100)\n",
    "a2.deposit(500)\n",
    " \n",
    "a1.display()\n",
    "a2.display()"
   ]
  },
  {
   "cell_type": "code",
   "execution_count": null,
   "metadata": {},
   "outputs": [],
   "source": []
  }
 ],
 "metadata": {
  "kernelspec": {
   "display_name": "objectvenv",
   "language": "python",
   "name": "python3"
  },
  "language_info": {
   "codemirror_mode": {
    "name": "ipython",
    "version": 3
   },
   "file_extension": ".py",
   "mimetype": "text/x-python",
   "name": "python",
   "nbconvert_exporter": "python",
   "pygments_lexer": "ipython3",
   "version": "3.12.4"
  }
 },
 "nbformat": 4,
 "nbformat_minor": 2
}
